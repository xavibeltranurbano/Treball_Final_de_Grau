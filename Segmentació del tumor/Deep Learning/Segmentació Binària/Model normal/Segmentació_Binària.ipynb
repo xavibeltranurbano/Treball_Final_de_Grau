{
 "cells": [
  {
   "cell_type": "code",
   "execution_count": null,
   "metadata": {},
   "outputs": [],
   "source": [
    "#Ens connectem a la GPU\n",
    "import os\n",
    "os.environ['CUDA_DEVICE_ORDER']='PCI_BUS_ID'\n",
    "os.environ['CUDA_VISIBLE_DEVICES']='2'"
   ]
  },
  {
   "cell_type": "code",
   "execution_count": null,
   "metadata": {
    "id": "Q24Xy3yt5R45"
   },
   "outputs": [],
   "source": [
    "#Lliberies utilitzades\n",
    "import tensorflow as tf\n",
    "from tensorflow.keras.models import Model\n",
    "from tensorflow.keras.layers import Dense, Dropout, Activation, Flatten, concatenate, Conv2D, MaxPooling2D, Conv2DTranspose, Dense\n",
    "from tensorflow.keras.layers import Input, UpSampling2D,BatchNormalization\n",
    "from tensorflow.keras.callbacks import ModelCheckpoint\n",
    "from tensorflow.keras.optimizers import Adam\n",
    "from tensorflow.keras.preprocessing.image import ImageDataGenerator\n",
    "from tensorflow.keras import backend as K\n",
    "import matplotlib.pyplot as plt\n",
    "import skimage.io as io\n",
    "import numpy as np\n",
    "from tqdm import tqdm\n",
    "import nibabel as nib\n",
    "import cv2\n",
    "import numpy as np\n",
    "from sklearn.model_selection import KFold\n",
    "import pandas as pd\n",
    "import scipy"
   ]
  },
  {
   "cell_type": "code",
   "execution_count": null,
   "metadata": {
    "executionInfo": {
     "elapsed": 30,
     "status": "ok",
     "timestamp": 1648056728681,
     "user": {
      "displayName": "Xavier Beltran Urbano",
      "photoUrl": "https://lh3.googleusercontent.com/a/default-user=s64",
      "userId": "06059148959479075327"
     },
     "user_tz": -60
    },
    "id": "RXD9ooKVRgES"
   },
   "outputs": [],
   "source": [
    "path = \"HGG/HGG/\""
   ]
  },
  {
   "cell_type": "code",
   "execution_count": null,
   "metadata": {
    "executionInfo": {
     "elapsed": 24,
     "status": "ok",
     "timestamp": 1648056728683,
     "user": {
      "displayName": "Xavier Beltran Urbano",
      "photoUrl": "https://lh3.googleusercontent.com/a/default-user=s64",
      "userId": "06059148959479075327"
     },
     "user_tz": -60
    },
    "id": "KeszFnx3VpU-"
   },
   "outputs": [],
   "source": [
    "#Funció per llegir les imatges de la base de dades\n",
    "def load_data(path,mida):\n",
    "  my_dir = sorted(os.listdir(path))\n",
    "  my_dir=my_dir[230:287]\n",
    "  flair=[]\n",
    "  data = []\n",
    "  gt = []\n",
    "  seg_final=[]\n",
    "  i=1\n",
    "  for p in tqdm(my_dir): \n",
    "    if(p.startswith('Brats18')):\n",
    "        data_list = sorted(os.listdir(path+p))\n",
    "        seg = nib.load(path + p + '/'+ data_list[1]).get_fdata()\n",
    "        \n",
    "        flair = nib.load(path + p + '/'+ data_list[0]).get_fdata()\n",
    "        \n",
    "        t2 = nib.load(path + p + '/'+ data_list[4]).get_fdata()\n",
    "\n",
    "        data.append([flair,t2])\n",
    "        gt.append(seg)\n",
    "        if i>=mida:\n",
    "          break\n",
    "        else:\n",
    "          i=i+1\n",
    "  data = np.asarray(data,dtype=np.float16)\n",
    "  gt = np.asarray(gt,dtype=np.uint8)\n",
    "  return data,gt,flair"
   ]
  },
  {
   "cell_type": "code",
   "execution_count": null,
   "metadata": {
    "executionInfo": {
     "elapsed": 24,
     "status": "ok",
     "timestamp": 1648056728684,
     "user": {
      "displayName": "Xavier Beltran Urbano",
      "photoUrl": "https://lh3.googleusercontent.com/a/default-user=s64",
      "userId": "06059148959479075327"
     },
     "user_tz": -60
    },
    "id": "Z53TPyMMrOm4"
   },
   "outputs": [],
   "source": [
    "nombre_mostres=5"
   ]
  },
  {
   "cell_type": "code",
   "execution_count": null,
   "metadata": {
    "colab": {
     "base_uri": "https://localhost:8080/"
    },
    "executionInfo": {
     "elapsed": 18629,
     "status": "ok",
     "timestamp": 1648056747290,
     "user": {
      "displayName": "Xavier Beltran Urbano",
      "photoUrl": "https://lh3.googleusercontent.com/a/default-user=s64",
      "userId": "06059148959479075327"
     },
     "user_tz": -60
    },
    "id": "jh00l88gOrdQ",
    "outputId": "ee48633c-956d-43ad-8de9-6a93829f4dc8"
   },
   "outputs": [],
   "source": [
    "data1,gt1,flair = load_data(path,nombre_mostres)  "
   ]
  },
  {
   "cell_type": "code",
   "execution_count": null,
   "metadata": {
    "executionInfo": {
     "elapsed": 31,
     "status": "ok",
     "timestamp": 1648056748150,
     "user": {
      "displayName": "Xavier Beltran Urbano",
      "photoUrl": "https://lh3.googleusercontent.com/a/default-user=s64",
      "userId": "06059148959479075327"
     },
     "user_tz": -60
    },
    "id": "sDSUQZuqPFFd"
   },
   "outputs": [],
   "source": [
    "#Modifiquem la forma dels vectors\n",
    "data = np.transpose(data1,(0,4,2,3,1))\n",
    "gt1=np.swapaxes(gt1,1,3)\n",
    "gt1=np.swapaxes(gt1,2,3)\n",
    "data = data.reshape([-1,240,240,2])\n",
    "gt_final = gt1.reshape([-1,240,240,1])"
   ]
  },
  {
   "cell_type": "code",
   "execution_count": null,
   "metadata": {
    "executionInfo": {
     "elapsed": 10944,
     "status": "ok",
     "timestamp": 1648056759089,
     "user": {
      "displayName": "Xavier Beltran Urbano",
      "photoUrl": "https://lh3.googleusercontent.com/a/default-user=s64",
      "userId": "06059148959479075327"
     },
     "user_tz": -60
    },
    "id": "LwAsyhlJJ2Gs"
   },
   "outputs": [],
   "source": [
    "#Canviem els valors del vector gt_final\n",
    "gt_final[np.where(gt_final!=0)]=1"
   ]
  },
  {
   "cell_type": "code",
   "execution_count": null,
   "metadata": {},
   "outputs": [],
   "source": [
    "#Arquitectura de la U-NET\n",
    "def unet():\n",
    "    \n",
    "    inputs = Input((240 , 240 , 2))\n",
    "    \n",
    "    conv1 = Conv2D(64, 3, activation='relu', padding='same') (inputs)\n",
    "    batch1 = BatchNormalization()(conv1)\n",
    "    conv1 = Conv2D(64, 3, activation='relu', padding='same') (batch1)\n",
    "    batch1 = BatchNormalization()(conv1)\n",
    "    pool1 = MaxPooling2D((2, 2))(batch1)\n",
    "    \n",
    "    conv2 = Conv2D(128, 3, activation='relu', padding='same') (pool1)\n",
    "    batch2 = BatchNormalization()(conv2)\n",
    "    conv2 = Conv2D(128, 3, activation='relu', padding='same') (batch2)\n",
    "    batch2 = BatchNormalization()(conv2)\n",
    "    pool2 = MaxPooling2D((2, 2))(batch2)\n",
    "    \n",
    "    conv3 = Conv2D(256, 3, activation='relu', padding='same') (pool2)\n",
    "    batch3 = BatchNormalization()(conv3)\n",
    "    conv3 = Conv2D(256, 3, activation='relu', padding='same') (batch3)\n",
    "    batch3 = BatchNormalization()(conv3)\n",
    "    pool3 = MaxPooling2D((2, 2))(batch3)\n",
    "    \n",
    "    conv4 = Conv2D(512,3, activation='relu', padding='same') (pool3)\n",
    "    batch4 = BatchNormalization()(conv4)\n",
    "    conv4 = Conv2D(512, 3, activation='relu', padding='same') (batch4)\n",
    "    batch4 = BatchNormalization()(conv4)\n",
    "    pool4 = MaxPooling2D((2, 2))(batch4)\n",
    "    \n",
    "    conv5 = Conv2D(1024, 3, activation='relu', padding='same') (pool4)\n",
    "    batch5 = BatchNormalization()(conv5)\n",
    "    conv5 = Conv2D(1024, 3, activation='relu', padding='same') (batch5)\n",
    "    batch5 = BatchNormalization()(conv5)\n",
    "    \n",
    "    up6 = Conv2DTranspose(512, 2, strides=(2, 2), padding='same', activation='relu') (batch5)\n",
    "    up6 = concatenate([up6, conv4])\n",
    "    conv6 = Conv2D(512, 3, activation='relu', padding='same') (up6)\n",
    "    batch6 = BatchNormalization()(conv6)\n",
    "    conv6 = Conv2D(512,3, activation='relu', padding='same') (batch6)\n",
    "    batch6 = BatchNormalization()(conv6)\n",
    "    \n",
    "    up7 = Conv2DTranspose(256, 2, strides=(2, 2), padding='same', activation='relu') (batch6)\n",
    "    up7 = concatenate([up7, conv3])\n",
    "    conv7 = Conv2D(256,3, activation='relu', padding='same') (up7)\n",
    "    batch7 = BatchNormalization(axis=1)(conv7)\n",
    "    conv7 = Conv2D(256,3, activation='relu', padding='same') (batch7)\n",
    "    batch7 = BatchNormalization()(conv7)\n",
    "    \n",
    "    up8 = Conv2DTranspose(128,2, strides=(2, 2), padding='same', activation='relu') (batch7)\n",
    "    up8 = concatenate([up8, conv2])\n",
    "    conv8 = Conv2D(128,3, activation='relu', padding='same') (up8)\n",
    "    batch8 = BatchNormalization()(conv8)\n",
    "    conv8 = Conv2D(128,3, activation='relu', padding='same') (batch8)\n",
    "    batch8 = BatchNormalization(axis=1)(conv8)\n",
    "    \n",
    "    up9 = Conv2DTranspose(64,2, strides=(2, 2), padding='same') (batch8)\n",
    "    up9 = concatenate([up9, conv1])\n",
    "    conv9 = Conv2D(64, (3, 3), activation='relu', padding='same') (up9)\n",
    "    batch9 = BatchNormalization()(conv9)\n",
    "    conv9 = Conv2D(64, 3, activation='relu', padding='same') (batch9)\n",
    "    batch9 = BatchNormalization()(conv9)\n",
    "\n",
    "    conv10 = Conv2D(1,1,activation='sigmoid')(batch9)\n",
    "\n",
    "    model = Model(inputs=[inputs], outputs=[conv10])\n",
    "\n",
    "    model.compile(optimizer=Adam(lr=1e-4), loss='binary_crossentropy')\n",
    "\n",
    "    return model"
   ]
  },
  {
   "cell_type": "code",
   "execution_count": null,
   "metadata": {
    "executionInfo": {
     "elapsed": 1612,
     "status": "ok",
     "timestamp": 1648056764991,
     "user": {
      "displayName": "Xavier Beltran Urbano",
      "photoUrl": "https://lh3.googleusercontent.com/a/default-user=s64",
      "userId": "06059148959479075327"
     },
     "user_tz": -60
    },
    "id": "yQ31EKUmPQwt"
   },
   "outputs": [],
   "source": [
    "#Dividim la base de dades en train i test\n",
    "percentatge=abs(nombre_mostres*0.8)\n",
    "#Train\n",
    "input_train=data[0:int(percentatge*155),:,:,:]\n",
    "target_train=gt_final[0:int(percentatge*155),:,:]\n",
    "#Test\n",
    "input_test=data[int(percentatge*155):nombre_mostres*155,:,:,:]\n",
    "target_test=gt_final[int(percentatge*155):nombre_mostres*155,:,:,:]\n"
   ]
  },
  {
   "cell_type": "code",
   "execution_count": null,
   "metadata": {},
   "outputs": [],
   "source": [
    "#Funcions que calculen el Dice Coefficient (DSC)\n",
    "def dice_coef(y_true, y_pred):\n",
    "    y_true_f = y_true.flatten()\n",
    "    y_pred_f = y_pred.flatten()\n",
    "    union = np.sum(y_true_f) + np.sum(y_pred_f)\n",
    "    if union==0: return 1\n",
    "    intersection = np.sum(y_true_f * y_pred_f)\n",
    "    return 2. * intersection / union\n",
    "\n",
    "def mean_dice_coef(y_true, y_pred_bin,valor):\n",
    "    # shape of y_true and y_pred_bin: (n_samples, height, width, n_channels)\n",
    "    batch_size = y_true.shape[0]\n",
    "    vector_dice=[]\n",
    "    compt=1\n",
    "    total_dice=[]\n",
    "    for i in range(batch_size):\n",
    "        if compt==155:\n",
    "                vector_dice.append(dice_coef(y_true[i, :, :, valor], y_pred_bin[i, :, :,valor]))\n",
    "                total_dice.append(np.mean(vector_dice))\n",
    "                vector_dice=[]\n",
    "                compt=1\n",
    "        else:\n",
    "                value=dice_coef(y_true[i, :, :, valor], y_pred_bin[i, :, :,valor])\n",
    "                vector_dice.append(value)\n",
    "                compt=compt+1\n",
    "    return total_dice"
   ]
  },
  {
   "cell_type": "code",
   "execution_count": null,
   "metadata": {},
   "outputs": [],
   "source": [
    "#Funció que calcula la distància de Hausdorff (HD)\n",
    "def mean_distancia_hausdorff(y_true, y_pred_bin,valor):\n",
    "    # shape of y_true and y_pred_bin: (n_samples, height, width, n_channels)\n",
    "    batch_size = y_true.shape[0]\n",
    "    vector_distancia=[]\n",
    "    compt=1\n",
    "    distancia1=[]\n",
    "    distancia2=[]\n",
    "    distancia3=[]\n",
    "    distancia4=[]\n",
    "    mean=[]\n",
    "    total_distancia=[]\n",
    "    for i in range(batch_size):\n",
    "        if compt==155:\n",
    "                distancia1.append(scipy.spatial.distance.directed_hausdorff(y_true[i, :, :, valor],y_pred_bin[i, :, :,valor])[0])\n",
    "                total_distancia.append(np.mean(distancia1))\n",
    "                distancia1=[]\n",
    "                compt=1\n",
    "        else:\n",
    "                distancia1.append(scipy.spatial.distance.directed_hausdorff(y_true[i, :, :, valor],y_pred_bin[i, :, :,valor])[0])\n",
    "                compt=compt+1\n",
    "    return total_distancia"
   ]
  },
  {
   "cell_type": "code",
   "execution_count": null,
   "metadata": {},
   "outputs": [],
   "source": [
    "num_folds=5\n",
    "inputs = input_train\n",
    "targets =target_train\n",
    "kfold = KFold(n_splits=num_folds, shuffle=True,random_state=100)\n",
    "fold_no=1"
   ]
  },
  {
   "cell_type": "code",
   "execution_count": null,
   "metadata": {
    "scrolled": true
   },
   "outputs": [],
   "source": [
    "#Entrenem els models\n",
    "loss_per_fold=[]\n",
    "vec_models=[]\n",
    "scores_dice_total=[]\n",
    "for train, test in kfold.split(inputs, targets):\n",
    "    model = unet()\n",
    "\n",
    "    # Generate a print\n",
    "    print('------------------------------------------------------------------------')\n",
    "    print(f'Training for fold {fold_no} ...')\n",
    "\n",
    "    # Fit data to model\n",
    "    history = model.fit(inputs[train], targets[train],batch_size=8,epochs=1)\n",
    "    vec_models.append(model)\n",
    "\n",
    "    #Predim el model\n",
    "    prediccio=model.predict(inputs[test])\n",
    "    dades=inputs[test]\n",
    "    dades[np.where(dades>0)]=1\n",
    "    prediccio=prediccio*dades\n",
    "    prediccio=np.where(prediccio<0.5,0,1)\n",
    "    \n",
    "    #Calculem DSC del model corresponent\n",
    "    score=mean_dice_coef(prediccio,targets[test],0)\n",
    "    \n",
    "    #Calculem loss del model corresponent\n",
    "    scores_lose = model.evaluate(inputs[test], targets[test], verbose=0)\n",
    "    \n",
    "    #Mostrem els resultats\n",
    "    scores_dice=np.mean(score)\n",
    "    dice_coeficient=\"['dice_coef']\"\n",
    "    print(f'Score for fold {fold_no}: {model.metrics_names} of {scores_lose}%')\n",
    "    print(f'Score for fold {fold_no}: {dice_coeficient} of {scores_dice}%')\n",
    "    \n",
    "    #Creem boxplot\n",
    "    plt.boxplot(score)\n",
    "    plt.show()\n",
    "    scores_dice_total.append(score)\n",
    "    score=[]\n",
    "    prediccio=[]\n",
    "    score_dice=0\n",
    "    loss_per_fold.append(scores_lose)\n",
    "    fold_no = fold_no + 1\n",
    "    "
   ]
  },
  {
   "cell_type": "code",
   "execution_count": null,
   "metadata": {},
   "outputs": [],
   "source": [
    "plt.boxplot(scores_dice_total)\n",
    "plt.show()"
   ]
  },
  {
   "cell_type": "code",
   "execution_count": null,
   "metadata": {
    "colab": {
     "base_uri": "https://localhost:8080/"
    },
    "executionInfo": {
     "elapsed": 11890,
     "status": "ok",
     "timestamp": 1647987917824,
     "user": {
      "displayName": "Xavier Beltran Urbano",
      "photoUrl": "https://lh3.googleusercontent.com/a/default-user=s64",
      "userId": "06059148959479075327"
     },
     "user_tz": -60
    },
    "id": "c8Zxvpy3kQHr",
    "outputId": "423307e4-507b-4190-86b1-9b62c44c14be",
    "scrolled": true
   },
   "outputs": [],
   "source": [
    "#vec_models[0].save('#1.1#SB_5_fold_50_epochs.h5')\n",
    "#vec_models[1].save('#1.2#SB_5_fold_50_epochs.h5')\n",
    "#vec_models[2].save('#1.3#SB_5_fold_50_epochs.h5')\n",
    "#vec_models[3].save('#1.4#SB_5_fold_50_epochs.h5')\n",
    "#vec_models[4].save('#1.5#SB_5_fold_50_epochs.h5')"
   ]
  },
  {
   "cell_type": "code",
   "execution_count": null,
   "metadata": {},
   "outputs": [],
   "source": [
    "#Predim les imatges de test\n",
    "Y_pre1=vec_models[0].predict(input_test)\n",
    "Y_pre2=vec_models[1].predict(input_test)\n",
    "Y_pre3=vec_models[2].predict(input_test)\n",
    "Y_pre4=vec_models[3].predict(input_test)\n",
    "Y_pre5=vec_models[4].predict(input_test)"
   ]
  },
  {
   "cell_type": "markdown",
   "metadata": {
    "id": "2LZ0h3t27Du-"
   },
   "source": [
    "# ENSEMBLE 1"
   ]
  },
  {
   "cell_type": "code",
   "execution_count": null,
   "metadata": {},
   "outputs": [],
   "source": [
    "# Aquest mètode consisteix en comparar els valors de probabilitat dels píxels \n",
    "#de cada una de les 5 prediccions obtingudes, per tal de quedar-nos amb el valor amb la probabilitat més alta.\n",
    "\n",
    "Y_pre_total_maxim=np.maximum(Y_pre1,Y_pre2)\n",
    "Y_pre_total_maxim=np.maximum(Y_pre_total_maxim,Y_pre3)\n",
    "Y_pre_total_maxim=np.maximum(Y_pre_total_maxim,Y_pre4)\n",
    "Y_pre_total_maxim=np.maximum(Y_pre_total_maxim,Y_pre5)\n",
    "\n",
    "Y_pre_total_maxim[np.where(Y_pre_total_maxim<0.5)]=0\n",
    "Y_pre_total_maxim[np.where(Y_pre_total_maxim>=0.5)]=1\n",
    "\n",
    "input_test=np.array(input_test,copy=True)\n",
    "input_test2=input_test.copy()\n",
    "input_test2[np.where(input_test2>0)]=1\n",
    "Y_pre_total_maxim=Y_pre_total_maxim*input_test2\n",
    "\n",
    "#Calculem accuracy\n",
    "dades=mean_dice_coef(target_test, Y_pre_total_maxim,0)\n",
    "print(f'Mitjana - DSC - ENSEMBLE 1: {np.mean(dades)}%')\n",
    "print(f'Std - DSC - ENSEMBLE 1: {np.std(dades)}%')\n",
    "plt.boxplot(dades)"
   ]
  },
  {
   "cell_type": "code",
   "execution_count": null,
   "metadata": {},
   "outputs": [],
   "source": [
    "#Calculem distàcia de Hausdorff\n",
    "dades_distancia_hausdorff=mean_distancia_hausdorff(target_test, Y_pre_total_maxim,0)\n",
    "print(f'Mitjana - HD - ENSEMBLE 1:: {np.mean(dades_distancia_hausdorff)}')\n",
    "print(f'Std - HD - ENSEMBLE 1: {np.std(dades_distancia_hausdorff)}')"
   ]
  },
  {
   "cell_type": "code",
   "execution_count": null,
   "metadata": {},
   "outputs": [],
   "source": [
    "#Calculem la matriu de confusió\n",
    "print('CONFUSION MATRIX ENSEMBLE 1:')\n",
    "matriu=pd.crosstab(target_test[:,:,:,0].flatten(),Y_pre_total_maxim[:,:,:,0].flatten())\n",
    "matrix=np.asarray(matriu)\n",
    "tp=matrix[1,1]\n",
    "tn=matrix[0,0]\n",
    "fp=matrix[0,1]\n",
    "fn=matrix[1,0]\n",
    "matrix=[]\n",
    "print(f'Sensibilitat ENSEMBLE 1 : {tp/(tp+fn)}')\n",
    "print(f'Especificitat ENSEMBLE 1: {tn/(tn+fp)}')"
   ]
  },
  {
   "cell_type": "markdown",
   "metadata": {
    "id": "2LZ0h3t27Du-"
   },
   "source": [
    "# ENSEMBLE 2"
   ]
  },
  {
   "cell_type": "code",
   "execution_count": null,
   "metadata": {},
   "outputs": [],
   "source": [
    "#Aquest mètode consisteix en calcular la mitjana dels diferents valors de \n",
    "#probabilitat dels píxels de cada una de les 5 prediccions obtingudes.\n",
    "\n",
    "Y_pre_total_mitjana=Y_pre1+Y_pre2+Y_pre3+Y_pre4+Y_pre5\n",
    "Y_pre_total_mitjana=Y_pre_total_mitjana/5\n",
    "\n",
    "Y_pre_total_mitjana[np.where(Y_pre_total_mitjana<0.5)]=0\n",
    "Y_pre_total_mitjana[np.where(Y_pre_total_mitjana>=0.5)]=1\n",
    "Y_pre_total_mitjana=Y_pre_total_mitjana*input_test2\n",
    "\n",
    "#Calculem accuracy\n",
    "dades=mean_dice_coef(target_test, Y_pre_total_mitjana,0)\n",
    "print(f'Mitjana - DSC - ENSEMBLE 2: {np.mean(dades)}%')\n",
    "print(f'Std - DSC - ENSEMBLE 2: {np.std(dades)}%')\n",
    "plt.boxplot(dades)"
   ]
  },
  {
   "cell_type": "code",
   "execution_count": null,
   "metadata": {},
   "outputs": [],
   "source": [
    "#Calculem distància de Hausdorff\n",
    "dades_distancia_hausdorff=mean_distancia_hausdorff(target_test, Y_pre_total_mitjana,0)\n",
    "print(f'Mitjana - HD - ENSEMBLE 2:: {np.mean(dades_distancia_hausdorff)}')\n",
    "print(f'Std - HD - ENSEMBLE 2: {np.std(dades_distancia_hausdorff)}')"
   ]
  },
  {
   "cell_type": "code",
   "execution_count": null,
   "metadata": {},
   "outputs": [],
   "source": [
    "#Calculem la matriu de confusió\n",
    "print('CONFUSION MATRIX ENSEMBLE 2:')\n",
    "matriu=pd.crosstab(target_test[:,:,:,0].flatten(),Y_pre_total_mitjana[:,:,:,0].flatten())\n",
    "matrix=np.asarray(matriu)\n",
    "tp=matrix[1,1]\n",
    "tn=matrix[0,0]\n",
    "fp=matrix[0,1]\n",
    "fn=matrix[1,0]\n",
    "matrix=[]\n",
    "print(f'Sensibilitat ENSEMBLE 2: {tp/(tp+fn)}')\n",
    "print(f'Especificitat ENSEMBLE 2: {tn/(tn+fp)}')"
   ]
  },
  {
   "cell_type": "markdown",
   "metadata": {
    "id": "2LZ0h3t27Du-"
   },
   "source": [
    "# VOTING"
   ]
  },
  {
   "cell_type": "code",
   "execution_count": null,
   "metadata": {},
   "outputs": [],
   "source": [
    "# Aquest mètode consisteix en observar els valors de probabilitat dels \n",
    "# píxels de cada una de les 5 prediccions obtingudes i, sumar quants valors \n",
    "# d'1 i quants valors de 0 hi ha. Un cop sumats, en la predicció final, posarem el\n",
    "# valor (0 o 1) el qual té la suma més gran.\n",
    "\n",
    "Y_pre1=Y_pre1*input_test2\n",
    "Y_pre2=Y_pre2*input_test2\n",
    "Y_pre3=Y_pre3*input_test2\n",
    "Y_pre4=Y_pre4*input_test2\n",
    "Y_pre5=Y_pre5*input_test2\n",
    "\n",
    "Y_pre1=np.where(Y_pre1<0.5,0,1)\n",
    "Y_pre2=np.where(Y_pre2<0.5,0,1)\n",
    "Y_pre3=np.where(Y_pre3<0.5,0,1)\n",
    "Y_pre4=np.where(Y_pre4<0.5,0,1)\n",
    "Y_pre5=np.where(Y_pre5<0.5,0,1)\n",
    "\n",
    "Y_pre_total_voting=Y_pre1+Y_pre2+Y_pre3+Y_pre4+Y_pre5\n",
    "Y_pre_total_voting=np.where(Y_pre_total_voting>=3,1,0)\n",
    "#Calculem accuracy\n",
    "dades_voting=mean_dice_coef(target_test, Y_pre_total_voting,0)\n",
    "print(f'Mitjana - DSC - VOTING: {np.mean(dades_voting)}')\n",
    "print(f'Std - DSC - VOTING: {np.std(dades_voting)}')"
   ]
  },
  {
   "cell_type": "code",
   "execution_count": null,
   "metadata": {},
   "outputs": [],
   "source": [
    "#Calculem distància de Hausdorff\n",
    "dades_distancia_hausdorff=mean_distancia_hausdorff(target_test, Y_pre_total_voting,0)\n",
    "print(f'Mitjana - HD - VOTING: {np.mean(dades_distancia_hausdorff)}')\n",
    "print(f'Std - HD - VOTING: {np.std(dades_distancia_hausdorff)}')"
   ]
  },
  {
   "cell_type": "code",
   "execution_count": null,
   "metadata": {},
   "outputs": [],
   "source": [
    "#Calculem la matriu de confusió\n",
    "print('CONFUSION MATRIX VOTING:')\n",
    "matriu=pd.crosstab(target_test[:,:,:,0].flatten(),Y_pre_total_voting[:,:,:,0].flatten())\n",
    "matrix=np.asarray(matriu)\n",
    "tp=matrix[1,1]\n",
    "tn=matrix[0,0]\n",
    "fp=matrix[0,1]\n",
    "fn=matrix[1,0]\n",
    "matrix=[]\n",
    "print(f'Sensibilitat VOTING: {tp/(tp+fn)}')\n",
    "print(f'Especificitat VOTING: {tn/(tn+fp)}')"
   ]
  },
  {
   "cell_type": "markdown",
   "metadata": {
    "id": "fMMYIhWtn27r"
   },
   "source": [
    "# MIREM ELS RESULTATS D'UTILITZAR PER SEPARAT, ELS 5 MODELS OBTINGUTS EN L'ENTRENAMENT"
   ]
  },
  {
   "cell_type": "code",
   "execution_count": null,
   "metadata": {},
   "outputs": [],
   "source": [
    "#Model 1\n",
    "dades1=mean_dice_coef(target_test, Y_pre1,0)\n",
    "print(f'Mitjana - DSC - MODEL 1: {np.mean(dades1)}')\n",
    "print(f'std - DSC - MODEL 1: {np.std(dades1)}')\n",
    "#Calculem distància de Hausdorff\n",
    "dades_distancia_hausdorff=mean_distancia_hausdorff(target_test, Y_pre1,0)\n",
    "print(f'Mitjana - HD - MODEL 1: {np.mean(dades_distancia_hausdorff)}')\n",
    "print(f'Std - HD - MODEL 1: {np.std(dades_distancia_hausdorff)}')\n",
    "dades_distancia_hausdorff=[]\n",
    "#Calculem la matriu de confusió\n",
    "print('CONFUSION MATRIX MODEL 1:')\n",
    "matriu=pd.crosstab(target_test[:,:,:,0].flatten(),Y_pre1[:,:,:,0].flatten())\n",
    "matrix=np.asarray(matriu)\n",
    "tp=matrix[1,1]\n",
    "tn=matrix[0,0]\n",
    "fp=matrix[0,1]\n",
    "fn=matrix[1,0]\n",
    "matrix=[]\n",
    "print(f'Sensibilitat MODEL 1: {tp/(tp+fn)}')\n",
    "print(f'Especificitat MODEL 1: {tn/(tn+fp)}')\n",
    "print(' ')\n",
    "\n",
    "\n",
    "#Model 2\n",
    "dades2=mean_dice_coef(target_test, Y_pre2,0)\n",
    "print(f'Mitjana - DSC - MODEL 2: {np.mean(dades2)}')\n",
    "print(f'std - DSC - MODEL 2: {np.std(dades1)}')\n",
    "#Calculem distància de Hausdorff\n",
    "dades_distancia_hausdorff=mean_distancia_hausdorff(target_test, Y_pre2,0)\n",
    "print(f'Mitjana - HD - MODEL 2: {np.mean(dades_distancia_hausdorff)}')\n",
    "print(f'Std - HD - MODEL 2: {np.std(dades_distancia_hausdorff)}')\n",
    "dades_distancia_hausdorff=[]\n",
    "#Calculem la matriu de confusió\n",
    "print('CONFUSION MATRIX MODEL 2:')\n",
    "matriu=pd.crosstab(target_test[:,:,:,0].flatten(),Y_pre2[:,:,:,0].flatten())\n",
    "matrix=np.asarray(matriu)\n",
    "tp=matrix[1,1]\n",
    "tn=matrix[0,0]\n",
    "fp=matrix[0,1]\n",
    "fn=matrix[1,0]\n",
    "matrix=[]\n",
    "print(f'Sensibilitat MODEL 2: {tp/(tp+fn)}')\n",
    "print(f'Especificitat MODEL 2: {tn/(tn+fp)}')\n",
    "print(' ')\n",
    "\n",
    "#Model 3\n",
    "dades3=mean_dice_coef(target_test, Y_pre3,0)\n",
    "print(f'Mitjana - DSC - MODEL 3: {np.mean(dades3)}')\n",
    "print(f'std - DSC - MODEL 3: {np.std(dades3)}')\n",
    "#Calculem distància de Hausdorff\n",
    "dades_distancia_hausdorff=mean_distancia_hausdorff(target_test, Y_pre3,0)\n",
    "print(f'Mitjana - HD - MODEL 3: {np.mean(dades_distancia_hausdorff)}')\n",
    "print(f'Std - HD - MODEL 3: {np.std(dades_distancia_hausdorff)}')\n",
    "dades_distancia_hausdorff=[]\n",
    "#Calculem la matriu de confusió\n",
    "print('CONFUSION MATRIX MODEL 3:')\n",
    "matriu=pd.crosstab(target_test[:,:,:,0].flatten(),Y_pre3[:,:,:,0].flatten())\n",
    "matrix=np.asarray(matriu)\n",
    "tp=matrix[1,1]\n",
    "tn=matrix[0,0]\n",
    "fp=matrix[0,1]\n",
    "fn=matrix[1,0]\n",
    "matrix=[]\n",
    "print(f'Sensibilitat MODEL 3: {tp/(tp+fn)}')\n",
    "print(f'Especificitat MODEL 3: {tn/(tn+fp)}')\n",
    "print(' ')\n",
    "\n",
    "\n",
    "#Model 4\n",
    "dades4=mean_dice_coef(target_test, Y_pre4,0)\n",
    "print(f'Mitjana - DSC - MODEL 4: {np.mean(dades4)}')\n",
    "print(f'std - DSC - MODEL 4: {np.std(dades4)}')\n",
    "#Calculem distància de Hausdorff\n",
    "dades_distancia_hausdorff=mean_distancia_hausdorff(target_test, Y_pre4,0)\n",
    "print(f'Mitjana - HD - MODEL 4: {np.mean(dades_distancia_hausdorff)}')\n",
    "print(f'Std - HD - MODEL 4: {np.std(dades_distancia_hausdorff)}')\n",
    "dades_distancia_hausdorff=[]\n",
    "#Calculem la matriu de confusió\n",
    "print('CONFUSION MATRIX MODEL 4:')\n",
    "matriu=pd.crosstab(target_test[:,:,:,0].flatten(),Y_pre4[:,:,:,0].flatten())\n",
    "matrix=np.asarray(matriu)\n",
    "tp=matrix[1,1]\n",
    "tn=matrix[0,0]\n",
    "fp=matrix[0,1]\n",
    "fn=matrix[1,0]\n",
    "matrix=[]\n",
    "print(f'Sensibilitat MODEL 4: {tp/(tp+fn)}')\n",
    "print(f'Especificitat MODEL 4: {tn/(tn+fp)}')\n",
    "print(' ')\n",
    "\n",
    "#Model 5\n",
    "dades5=mean_dice_coef(target_test, Y_pre5,0)\n",
    "print(f'Mitjana - DSC - MODEL 5: {np.mean(dades5)}')\n",
    "print(f'std - DSDC - MODEL 5: {np.std(dades5)}')\n",
    "#Calculem distància de Hausdorff\n",
    "dades_distancia_hausdorff=mean_distancia_hausdorff(target_test, Y_pre5,0)\n",
    "print(f'Mitjana - HD - MODEL 5: {np.mean(dades_distancia_hausdorff)}')\n",
    "print(f'Std - HD - MODEL 5: {np.std(dades_distancia_hausdorff)}')\n",
    "dades_distancia_hausdorff=[]\n",
    "#Calculem la matriu de confusió\n",
    "print('CONFUSION MATRIX MODEL 5:')\n",
    "matriu=pd.crosstab(target_test[:,:,:,0].flatten(),Y_pre5[:,:,:,0].flatten())\n",
    "matrix=np.asarray(matriu)\n",
    "tp=matrix[1,1]\n",
    "tn=matrix[0,0]\n",
    "fp=matrix[0,1]\n",
    "fn=matrix[1,0]\n",
    "matrix=[]\n",
    "print(f'Sensibilitat MODEL 5: {tp/(tp+fn)}')\n",
    "print(f'Especificitat MODEL 5: {tn/(tn+fp)}')\n",
    "\n"
   ]
  }
 ],
 "metadata": {
  "colab": {
   "authorship_tag": "ABX9TyOFImcf5BSHrgeAcDfWQRI4",
   "collapsed_sections": [],
   "name": "Fitxer_Final_2.0.ipynb",
   "provenance": [
    {
     "file_id": "1tvaRWpvXImQ_JaCujXJGBy_r3qbg1DE_",
     "timestamp": 1647965765505
    },
    {
     "file_id": "10V24I8_wjBn0W68WJ_15W8l9sekN23K-",
     "timestamp": 1646670792814
    }
   ]
  },
  "kernelspec": {
   "display_name": "Python 3",
   "language": "python",
   "name": "python3"
  },
  "language_info": {
   "codemirror_mode": {
    "name": "ipython",
    "version": 3
   },
   "file_extension": ".py",
   "mimetype": "text/x-python",
   "name": "python",
   "nbconvert_exporter": "python",
   "pygments_lexer": "ipython3",
   "version": "3.6.9"
  }
 },
 "nbformat": 4,
 "nbformat_minor": 1
}
