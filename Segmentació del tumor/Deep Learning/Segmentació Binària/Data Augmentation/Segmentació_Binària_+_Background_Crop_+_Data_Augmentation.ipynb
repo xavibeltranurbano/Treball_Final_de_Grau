{
 "cells": [
  {
   "cell_type": "code",
   "execution_count": 8,
   "metadata": {},
   "outputs": [],
   "source": [
    "#Ens connectem a la GPU\n",
    "import os\n",
    "os.environ['CUDA_DEVICE_ORDER']='PCI_BUS_ID'\n",
    "os.environ['CUDA_VISIBLE_DEVICES']='1'"
   ]
  },
  {
   "cell_type": "code",
   "execution_count": 9,
   "metadata": {
    "id": "Q24Xy3yt5R45"
   },
   "outputs": [
    {
     "name": "stderr",
     "output_type": "stream",
     "text": [
      "/home/tfg/.local/lib/python3.6/site-packages/tensorflow/python/framework/dtypes.py:523: FutureWarning: Passing (type, 1) or '1type' as a synonym of type is deprecated; in a future version of numpy, it will be understood as (type, (1,)) / '(1,)type'.\n",
      "  _np_qint8 = np.dtype([(\"qint8\", np.int8, 1)])\n",
      "/home/tfg/.local/lib/python3.6/site-packages/tensorflow/python/framework/dtypes.py:524: FutureWarning: Passing (type, 1) or '1type' as a synonym of type is deprecated; in a future version of numpy, it will be understood as (type, (1,)) / '(1,)type'.\n",
      "  _np_quint8 = np.dtype([(\"quint8\", np.uint8, 1)])\n",
      "/home/tfg/.local/lib/python3.6/site-packages/tensorflow/python/framework/dtypes.py:525: FutureWarning: Passing (type, 1) or '1type' as a synonym of type is deprecated; in a future version of numpy, it will be understood as (type, (1,)) / '(1,)type'.\n",
      "  _np_qint16 = np.dtype([(\"qint16\", np.int16, 1)])\n",
      "/home/tfg/.local/lib/python3.6/site-packages/tensorflow/python/framework/dtypes.py:526: FutureWarning: Passing (type, 1) or '1type' as a synonym of type is deprecated; in a future version of numpy, it will be understood as (type, (1,)) / '(1,)type'.\n",
      "  _np_quint16 = np.dtype([(\"quint16\", np.uint16, 1)])\n",
      "/home/tfg/.local/lib/python3.6/site-packages/tensorflow/python/framework/dtypes.py:527: FutureWarning: Passing (type, 1) or '1type' as a synonym of type is deprecated; in a future version of numpy, it will be understood as (type, (1,)) / '(1,)type'.\n",
      "  _np_qint32 = np.dtype([(\"qint32\", np.int32, 1)])\n",
      "/home/tfg/.local/lib/python3.6/site-packages/tensorflow/python/framework/dtypes.py:532: FutureWarning: Passing (type, 1) or '1type' as a synonym of type is deprecated; in a future version of numpy, it will be understood as (type, (1,)) / '(1,)type'.\n",
      "  np_resource = np.dtype([(\"resource\", np.ubyte, 1)])\n"
     ]
    }
   ],
   "source": [
    "#Lliberies utilitzades\n",
    "import tensorflow as tf\n",
    "from tensorflow.keras.models import Model\n",
    "from tensorflow.keras.layers import Dense, Dropout, Activation, Flatten, concatenate, Conv2D, MaxPooling2D, Conv2DTranspose, Dense\n",
    "from tensorflow.keras.layers import Input, UpSampling2D,BatchNormalization\n",
    "from tensorflow.keras.callbacks import ModelCheckpoint\n",
    "from tensorflow.keras.optimizers import Adam\n",
    "from tensorflow.keras.preprocessing.image import ImageDataGenerator\n",
    "from tensorflow.keras import backend as K\n",
    "import matplotlib.pyplot as plt\n",
    "import skimage.io as io\n",
    "import numpy as np\n",
    "from tqdm import tqdm\n",
    "import nibabel as nib\n",
    "import cv2\n",
    "import numpy as np\n",
    "from sklearn.model_selection import KFold\n",
    "from skimage.transform import rotate"
   ]
  },
  {
   "cell_type": "code",
   "execution_count": 11,
   "metadata": {
    "executionInfo": {
     "elapsed": 30,
     "status": "ok",
     "timestamp": 1648056728681,
     "user": {
      "displayName": "Xavier Beltran Urbano",
      "photoUrl": "https://lh3.googleusercontent.com/a/default-user=s64",
      "userId": "06059148959479075327"
     },
     "user_tz": -60
    },
    "id": "RXD9ooKVRgES"
   },
   "outputs": [],
   "source": [
    "path = \"HGG/HGG/\""
   ]
  },
  {
   "cell_type": "code",
   "execution_count": 20,
   "metadata": {
    "executionInfo": {
     "elapsed": 24,
     "status": "ok",
     "timestamp": 1648056728683,
     "user": {
      "displayName": "Xavier Beltran Urbano",
      "photoUrl": "https://lh3.googleusercontent.com/a/default-user=s64",
      "userId": "06059148959479075327"
     },
     "user_tz": -60
    },
    "id": "KeszFnx3VpU-"
   },
   "outputs": [],
   "source": [
    "#Funció per llegir les imatges de la base de dades\n",
    "def load_data(path,mida):\n",
    "  my_dir = sorted(os.listdir(path))\n",
    "  flair=[]\n",
    "  data = []\n",
    "  gt = []\n",
    "  seg_final=[]\n",
    "  i=1\n",
    "  for p in tqdm(my_dir): \n",
    "    if(p.startswith('Brats18')):\n",
    "        #print(p)\n",
    "        data_list = sorted(os.listdir(path+p))       \n",
    "    \n",
    "        seg = nib.load(path + p + '/'+ data_list[1]).get_fdata()\n",
    "        seg=seg[40:200,30:220,:]\n",
    "        seg=cv2.resize(seg,(240,240))\n",
    "        seg_1=np.expand_dims(np.flip(seg,1),axis=0)\n",
    "        seg_2=np.expand_dims(rotate(seg,angle=45),axis=0)\n",
    "        seg=np.expand_dims(seg,axis=0)\n",
    "        seg_final=np.concatenate((seg,seg_1,seg_2),axis=0)\n",
    "        seg_final=np.transpose(seg_final,(1,2,0,3))\n",
    "        seg_final=seg_final.reshape([240,240,-1])\n",
    "        \n",
    "        flair = nib.load(path + p + '/'+ data_list[0]).get_fdata()\n",
    "        flair=flair[40:200,30:220,:]\n",
    "        flair=cv2.resize(flair,(240,240))\n",
    "        flair_1=np.expand_dims(np.flip(flair,1),axis=0)\n",
    "        flair_2=np.expand_dims(rotate(flair,angle=45),axis=0)\n",
    "        flair=np.expand_dims(flair,axis=0)\n",
    "        flair_final=np.concatenate((flair,flair_1,flair_2),axis=0)\n",
    "        flair_final=np.transpose(flair_final,(1,2,0,3))\n",
    "        flair_final=flair_final.reshape([240,240,-1])\n",
    "        \n",
    "        t2 = nib.load(path + p + '/'+ data_list[4]).get_fdata()\n",
    "        t2=t2[40:200,30:220,:]\n",
    "        t2=cv2.resize(t2,(240,240))\n",
    "        t2_1=np.expand_dims(np.flip(t2,1),axis=0)\n",
    "        t2_2=np.expand_dims(rotate(t2,angle=45),axis=0)\n",
    "        t2=np.expand_dims(t2,axis=0)\n",
    "        t2_final=np.concatenate((t2,t2_1,t2_2),axis=0)\n",
    "        t2_final=np.transpose(t2_final,(1,2,0,3))\n",
    "        t2_final=t2_final.reshape([240,240,-1])\n",
    "    \n",
    "        data.append([flair_final,t2_final])\n",
    "        gt.append(seg_final)\n",
    "        if i>=mida:\n",
    "          break\n",
    "        else:\n",
    "          i=i+1\n",
    "  data = np.asarray(data,dtype=np.float16)\n",
    "  gt = np.asarray(gt,dtype=np.uint8)\n",
    "  return data,gt,flair"
   ]
  },
  {
   "cell_type": "code",
   "execution_count": 21,
   "metadata": {
    "executionInfo": {
     "elapsed": 24,
     "status": "ok",
     "timestamp": 1648056728684,
     "user": {
      "displayName": "Xavier Beltran Urbano",
      "photoUrl": "https://lh3.googleusercontent.com/a/default-user=s64",
      "userId": "06059148959479075327"
     },
     "user_tz": -60
    },
    "id": "Z53TPyMMrOm4"
   },
   "outputs": [],
   "source": [
    "nombre_mostres=285"
   ]
  },
  {
   "cell_type": "code",
   "execution_count": 22,
   "metadata": {
    "colab": {
     "base_uri": "https://localhost:8080/"
    },
    "executionInfo": {
     "elapsed": 18629,
     "status": "ok",
     "timestamp": 1648056747290,
     "user": {
      "displayName": "Xavier Beltran Urbano",
      "photoUrl": "https://lh3.googleusercontent.com/a/default-user=s64",
      "userId": "06059148959479075327"
     },
     "user_tz": -60
    },
    "id": "jh00l88gOrdQ",
    "outputId": "ee48633c-956d-43ad-8de9-6a93829f4dc8",
    "scrolled": true
   },
   "outputs": [
    {
     "name": "stderr",
     "output_type": "stream",
     "text": [
      "100%|██████████| 59/59 [02:09<00:00,  2.20s/it]\n"
     ]
    }
   ],
   "source": [
    "data1,gt1,flair = load_data(path,nombre_mostres)   #dividing HGG in three parts i.e. 210 into three sets of 70 "
   ]
  },
  {
   "cell_type": "code",
   "execution_count": null,
   "metadata": {},
   "outputs": [],
   "source": [
    "#Modifiquem la forma dels vectors\n",
    "data = np.transpose(data1,(0,4,2,3,1))\n",
    "gt1=np.swapaxes(gt1,1,3)\n",
    "gt1=np.swapaxes(gt1,2,3)\n",
    "data = data.reshape([-1,240,240,2])\n",
    "gt_final = gt1.reshape([-1,240,240,1])"
   ]
  },
  {
   "cell_type": "code",
   "execution_count": null,
   "metadata": {},
   "outputs": [],
   "source": [
    "#Canviem els valors del vector gt_final\n",
    "gt_final[np.where(gt!=0)]=1"
   ]
  },
  {
   "cell_type": "code",
   "execution_count": null,
   "metadata": {},
   "outputs": [],
   "source": [
    "#Estructura de la U-NET\n",
    "def unet():\n",
    "    \n",
    "    inputs = Input((240 , 240 , 2))\n",
    "    \n",
    "    conv1 = Conv2D(64, 3, activation='relu', padding='same') (inputs)\n",
    "    batch1 = BatchNormalization()(conv1)\n",
    "    conv1 = Conv2D(64, 3, activation='relu', padding='same') (batch1)\n",
    "    batch1 = BatchNormalization()(conv1)\n",
    "    pool1 = MaxPooling2D((2, 2))(batch1)\n",
    "    \n",
    "    conv2 = Conv2D(128, 3, activation='relu', padding='same') (pool1)\n",
    "    batch2 = BatchNormalization()(conv2)\n",
    "    conv2 = Conv2D(128, 3, activation='relu', padding='same') (batch2)\n",
    "    batch2 = BatchNormalization()(conv2)\n",
    "    pool2 = MaxPooling2D((2, 2))(batch2)\n",
    "    \n",
    "    conv3 = Conv2D(256, 3, activation='relu', padding='same') (pool2)\n",
    "    batch3 = BatchNormalization()(conv3)\n",
    "    conv3 = Conv2D(256, 3, activation='relu', padding='same') (batch3)\n",
    "    batch3 = BatchNormalization()(conv3)\n",
    "    pool3 = MaxPooling2D((2, 2))(batch3)\n",
    "    \n",
    "    conv4 = Conv2D(512,3, activation='relu', padding='same') (pool3)\n",
    "    batch4 = BatchNormalization()(conv4)\n",
    "    conv4 = Conv2D(512, 3, activation='relu', padding='same') (batch4)\n",
    "    batch4 = BatchNormalization()(conv4)\n",
    "    pool4 = MaxPooling2D((2, 2))(batch4)\n",
    "    \n",
    "    conv5 = Conv2D(1024, 3, activation='relu', padding='same') (pool4)\n",
    "    batch5 = BatchNormalization()(conv5)\n",
    "    conv5 = Conv2D(1024, 3, activation='relu', padding='same') (batch5)\n",
    "    batch5 = BatchNormalization()(conv5)\n",
    "    \n",
    "    up6 = Conv2DTranspose(512, 2, strides=(2, 2), padding='same', activation='relu') (batch5)\n",
    "    up6 = concatenate([up6, conv4])\n",
    "    conv6 = Conv2D(512, 3, activation='relu', padding='same') (up6)\n",
    "    batch6 = BatchNormalization()(conv6)\n",
    "    conv6 = Conv2D(512,3, activation='relu', padding='same') (batch6)\n",
    "    batch6 = BatchNormalization()(conv6)\n",
    "    \n",
    "    up7 = Conv2DTranspose(256, 2, strides=(2, 2), padding='same', activation='relu') (batch6)\n",
    "    up7 = concatenate([up7, conv3])\n",
    "    conv7 = Conv2D(256,3, activation='relu', padding='same') (up7)\n",
    "    batch7 = BatchNormalization(axis=1)(conv7)\n",
    "    conv7 = Conv2D(256,3, activation='relu', padding='same') (batch7)\n",
    "    batch7 = BatchNormalization()(conv7)\n",
    "    \n",
    "    up8 = Conv2DTranspose(128,2, strides=(2, 2), padding='same', activation='relu') (batch7)\n",
    "    up8 = concatenate([up8, conv2])\n",
    "    conv8 = Conv2D(128,3, activation='relu', padding='same') (up8)\n",
    "    batch8 = BatchNormalization()(conv8)\n",
    "    conv8 = Conv2D(128,3, activation='relu', padding='same') (batch8)\n",
    "    batch8 = BatchNormalization(axis=1)(conv8)\n",
    "    \n",
    "    up9 = Conv2DTranspose(64,2, strides=(2, 2), padding='same') (batch8)\n",
    "    up9 = concatenate([up9, conv1])\n",
    "    conv9 = Conv2D(64, (3, 3), activation='relu', padding='same') (up9)\n",
    "    batch9 = BatchNormalization()(conv9)\n",
    "    conv9 = Conv2D(64, 3, activation='relu', padding='same') (batch9)\n",
    "    batch9 = BatchNormalization()(conv9)\n",
    "\n",
    "    conv10 = Conv2D(1,1,activation='sigmoid')(batch9)\n",
    "\n",
    "    model = Model(inputs=[inputs], outputs=[conv10])\n",
    "\n",
    "    model.compile(optimizer=Adam(lr=1e-4), loss='binary_crossentropy')\n",
    "\n",
    "    return model"
   ]
  },
  {
   "cell_type": "code",
   "execution_count": null,
   "metadata": {
    "executionInfo": {
     "elapsed": 1612,
     "status": "ok",
     "timestamp": 1648056764991,
     "user": {
      "displayName": "Xavier Beltran Urbano",
      "photoUrl": "https://lh3.googleusercontent.com/a/default-user=s64",
      "userId": "06059148959479075327"
     },
     "user_tz": -60
    },
    "id": "yQ31EKUmPQwt"
   },
   "outputs": [],
   "source": [
    "#Dividim la base de dades en train i test\n",
    "nombre_mostres=nombre_mostres*3\n",
    "percentatge=abs(nombre_mostres*0.8)\n",
    "#Train\n",
    "input_train=data[0:int(percentatge*155),:,:,:]\n",
    "target_train=gt_final[0:int(percentatge*155),:,:]\n",
    "#Test\n",
    "input_test=data[int(percentatge*155):,:,:,:]\n",
    "target_test=gt_final[int(percentatge*155):,:,:,:]\n"
   ]
  },
  {
   "cell_type": "code",
   "execution_count": 19,
   "metadata": {},
   "outputs": [],
   "source": [
    "#Funcions que calculen el dice\n",
    "def dice_coef(y_true, y_pred):\n",
    "    y_true_f = y_true.flatten()\n",
    "    y_pred_f = y_pred.flatten()\n",
    "    union = np.sum(y_true_f) + np.sum(y_pred_f)\n",
    "    if union==0: return 1\n",
    "    intersection = np.sum(y_true_f * y_pred_f)\n",
    "    return 2. * intersection / union\n",
    "\n",
    "def mean_dice_coef(y_true, y_pred_bin):\n",
    "    # shape of y_true and y_pred_bin: (n_samples, height, width, n_channels)\n",
    "    batch_size = y_true.shape[0]\n",
    "    mean_dice_channel = 0.\n",
    "    vector_dice=[]\n",
    "    compt=1\n",
    "    total_dice=[]\n",
    "    for i in range(batch_size):\n",
    "        if compt==155:\n",
    "                vector_dice.append(dice_coef(y_true[i, :, :, 0], y_pred_bin[i, :, :,0]))\n",
    "                total_dice.append(np.mean(vector_dice))\n",
    "                vector_dice=[]\n",
    "                compt=1\n",
    "        else:\n",
    "                vector_dice.append(dice_coef(y_true[i, :, :, 0], y_pred_bin[i, :, :,0]))\n",
    "                compt=compt+1\n",
    "    return total_dice"
   ]
  },
  {
   "cell_type": "code",
   "execution_count": 20,
   "metadata": {},
   "outputs": [],
   "source": [
    "num_folds=5\n",
    "inputs = input_train\n",
    "targets =target_train\n",
    "kfold = KFold(n_splits=num_folds, shuffle=True,random_state=100)\n",
    "fold_no=1"
   ]
  },
  {
   "cell_type": "code",
   "execution_count": 25,
   "metadata": {
    "scrolled": true
   },
   "outputs": [
    {
     "name": "stdout",
     "output_type": "stream",
     "text": [
      "------------------------------------------------------------------------\n",
      "Training for fold 1 ...\n",
      "Epoch 1/20\n",
      "84816/84816 [==============================] - 2749s 32ms/step - loss: 0.4891\n",
      "Epoch 2/20\n",
      "84816/84816 [==============================] - 2741s 32ms/step - loss: 0.0927\n",
      "Epoch 3/20\n",
      "84816/84816 [==============================] - 2741s 32ms/step - loss: 0.0748\n",
      "Epoch 4/20\n",
      "84816/84816 [==============================] - 2742s 32ms/step - loss: 0.0630\n",
      "Epoch 5/20\n",
      "84816/84816 [==============================] - 2740s 32ms/step - loss: 0.0551\n",
      "Epoch 6/20\n",
      "84816/84816 [==============================] - 2743s 32ms/step - loss: 0.0489\n",
      "Epoch 7/20\n",
      "84816/84816 [==============================] - 2743s 32ms/step - loss: 0.0441\n",
      "Epoch 8/20\n",
      "84816/84816 [==============================] - 2743s 32ms/step - loss: 0.0405\n",
      "Epoch 9/20\n",
      "84816/84816 [==============================] - 2743s 32ms/step - loss: 0.0376\n",
      "Epoch 10/20\n",
      "84816/84816 [==============================] - 2743s 32ms/step - loss: 0.0354\n",
      "Epoch 11/20\n",
      "84816/84816 [==============================] - 2743s 32ms/step - loss: 0.0334\n",
      "Epoch 12/20\n",
      "84816/84816 [==============================] - 2743s 32ms/step - loss: 0.0317\n",
      "Epoch 13/20\n",
      "84816/84816 [==============================] - 2742s 32ms/step - loss: 0.0304\n",
      "Epoch 14/20\n",
      "84816/84816 [==============================] - 2741s 32ms/step - loss: 0.0292\n",
      "Epoch 15/20\n",
      "84816/84816 [==============================] - 2743s 32ms/step - loss: 0.0279\n",
      "Epoch 16/20\n",
      "84816/84816 [==============================] - 2743s 32ms/step - loss: 0.0271\n",
      "Epoch 17/20\n",
      "84816/84816 [==============================] - 2745s 32ms/step - loss: 0.0262\n",
      "Epoch 18/20\n",
      "84816/84816 [==============================] - 2746s 32ms/step - loss: 0.0254\n",
      "Epoch 19/20\n",
      "84816/84816 [==============================] - 2745s 32ms/step - loss: 0.0246\n",
      "Epoch 20/20\n",
      "84816/84816 [==============================] - 2744s 32ms/step - loss: 0.0238\n",
      "Score for fold 1: ['loss'] of 0.12212165705582075%\n",
      "Score for fold 1: ['dice_coef'] of 0.9481216420596171%\n"
     ]
    },
    {
     "data": {
      "image/png": "[encoded data removed]",
      "text/plain": [
       "<Figure size 432x288 with 1 Axes>"
      ]
     },
     "metadata": {
      "needs_background": "light"
     },
     "output_type": "display_data"
    },
    {
     "name": "stdout",
     "output_type": "stream",
     "text": [
      "------------------------------------------------------------------------\n",
      "Training for fold 2 ...\n",
      "Epoch 1/20\n",
      "84816/84816 [==============================] - 2751s 32ms/step - loss: 0.4980\n",
      "Epoch 2/20\n",
      "84816/84816 [==============================] - 2746s 32ms/step - loss: 0.0956\n",
      "Epoch 3/20\n",
      "84816/84816 [==============================] - 2746s 32ms/step - loss: 0.0801\n",
      "Epoch 4/20\n",
      "84816/84816 [==============================] - 2745s 32ms/step - loss: 0.0681\n",
      "Epoch 5/20\n",
      "84816/84816 [==============================] - 2746s 32ms/step - loss: 0.0611\n",
      "Epoch 6/20\n",
      "84816/84816 [==============================] - 2745s 32ms/step - loss: 0.0543\n",
      "Epoch 7/20\n",
      "84816/84816 [==============================] - 2746s 32ms/step - loss: 0.0493\n",
      "Epoch 8/20\n",
      "84816/84816 [==============================] - 2746s 32ms/step - loss: 0.0451\n",
      "Epoch 9/20\n",
      "84816/84816 [==============================] - 2744s 32ms/step - loss: 0.0421\n",
      "Epoch 10/20\n",
      "84816/84816 [==============================] - 2744s 32ms/step - loss: 0.0393\n",
      "Epoch 11/20\n",
      "84816/84816 [==============================] - 2745s 32ms/step - loss: 0.0369\n",
      "Epoch 12/20\n",
      "84816/84816 [==============================] - 2744s 32ms/step - loss: 0.0348\n",
      "Epoch 13/20\n",
      "84816/84816 [==============================] - 2743s 32ms/step - loss: 0.0332\n",
      "Epoch 14/20\n",
      "84816/84816 [==============================] - 2743s 32ms/step - loss: 0.0316\n",
      "Epoch 15/20\n",
      "84816/84816 [==============================] - 2744s 32ms/step - loss: 0.0303\n",
      "Epoch 16/20\n",
      "84816/84816 [==============================] - 2745s 32ms/step - loss: 0.0290\n",
      "Epoch 17/20\n",
      "84816/84816 [==============================] - 2745s 32ms/step - loss: 0.0281\n",
      "Epoch 18/20\n",
      "84816/84816 [==============================] - 2744s 32ms/step - loss: 0.0270\n",
      "Epoch 19/20\n",
      "84816/84816 [==============================] - 2745s 32ms/step - loss: 0.0262\n",
      "Epoch 20/20\n",
      "84816/84816 [==============================] - 2745s 32ms/step - loss: 0.0254\n",
      "Score for fold 2: ['loss'] of 0.12430899772055867%\n",
      "Score for fold 2: ['dice_coef'] of 0.9402417335104758%\n"
     ]
    },
    {
     "data": {
      "image/png": "[encoded data removed]",
      "text/plain": [
       "<Figure size 432x288 with 1 Axes>"
      ]
     },
     "metadata": {
      "needs_background": "light"
     },
     "output_type": "display_data"
    },
    {
     "name": "stdout",
     "output_type": "stream",
     "text": [
      "------------------------------------------------------------------------\n",
      "Training for fold 3 ...\n",
      "Epoch 1/20\n",
      "84816/84816 [==============================] - 2762s 33ms/step - loss: 0.5227\n",
      "Epoch 2/20\n",
      "84816/84816 [==============================] - 2755s 32ms/step - loss: 0.0942\n",
      "Epoch 3/20\n",
      "84816/84816 [==============================] - 2755s 32ms/step - loss: 0.0763\n",
      "Epoch 4/20\n",
      "84816/84816 [==============================] - 2756s 32ms/step - loss: 0.0658\n",
      "Epoch 5/20\n",
      "84816/84816 [==============================] - 2756s 32ms/step - loss: 0.0576\n",
      "Epoch 6/20\n",
      "84816/84816 [==============================] - 2755s 32ms/step - loss: 0.0515\n",
      "Epoch 7/20\n",
      "84816/84816 [==============================] - 2756s 32ms/step - loss: 0.0463\n",
      "Epoch 8/20\n",
      "84816/84816 [==============================] - 2756s 32ms/step - loss: 0.0425\n",
      "Epoch 9/20\n",
      "84816/84816 [==============================] - 2756s 32ms/step - loss: 0.0391\n",
      "Epoch 10/20\n",
      "84816/84816 [==============================] - 2755s 32ms/step - loss: 0.0366\n",
      "Epoch 11/20\n",
      "84816/84816 [==============================] - 2756s 32ms/step - loss: 0.0344\n",
      "Epoch 12/20\n",
      "84816/84816 [==============================] - 2757s 33ms/step - loss: 0.0327\n",
      "Epoch 13/20\n",
      "84816/84816 [==============================] - 2757s 33ms/step - loss: 0.0311\n",
      "Epoch 14/20\n",
      "84816/84816 [==============================] - 2755s 32ms/step - loss: 0.0298\n",
      "Epoch 15/20\n",
      "84816/84816 [==============================] - 2755s 32ms/step - loss: 0.0287\n",
      "Epoch 16/20\n",
      "84816/84816 [==============================] - 2756s 32ms/step - loss: 0.0277\n",
      "Epoch 17/20\n",
      "84816/84816 [==============================] - 2756s 32ms/step - loss: 0.0267\n",
      "Epoch 18/20\n",
      "84816/84816 [==============================] - 2756s 32ms/step - loss: 0.0258\n",
      "Epoch 19/20\n",
      "84816/84816 [==============================] - 2756s 32ms/step - loss: 0.0250\n",
      "Epoch 20/20\n",
      "84816/84816 [==============================] - 2756s 32ms/step - loss: 0.0242\n",
      "Score for fold 3: ['loss'] of 0.12598376040563192%\n",
      "Score for fold 3: ['dice_coef'] of 0.9469142501217279%\n"
     ]
    },
    {
     "data": {
      "image/png": "[encoded data removed]",
      "text/plain": [
       "<Figure size 432x288 with 1 Axes>"
      ]
     },
     "metadata": {
      "needs_background": "light"
     },
     "output_type": "display_data"
    },
    {
     "name": "stdout",
     "output_type": "stream",
     "text": [
      "------------------------------------------------------------------------\n",
      "Training for fold 4 ...\n",
      "Epoch 1/20\n",
      "84816/84816 [==============================] - 2769s 33ms/step - loss: 0.5181\n",
      "Epoch 2/20\n",
      "84816/84816 [==============================] - 2760s 33ms/step - loss: 0.0967\n",
      "Epoch 3/20\n",
      "84816/84816 [==============================] - 2756s 32ms/step - loss: 0.0772\n",
      "Epoch 4/20\n",
      "84816/84816 [==============================] - 2756s 32ms/step - loss: 0.0656\n",
      "Epoch 5/20\n",
      "84816/84816 [==============================] - 2755s 32ms/step - loss: 0.0575\n",
      "Epoch 6/20\n",
      "84816/84816 [==============================] - 2754s 32ms/step - loss: 0.0514\n",
      "Epoch 7/20\n",
      "84816/84816 [==============================] - 2755s 32ms/step - loss: 0.0466\n",
      "Epoch 8/20\n",
      "84816/84816 [==============================] - 2756s 32ms/step - loss: 0.0427\n",
      "Epoch 9/20\n",
      "84816/84816 [==============================] - 2756s 32ms/step - loss: 0.0397\n",
      "Epoch 10/20\n",
      "84816/84816 [==============================] - 2754s 32ms/step - loss: 0.0372\n",
      "Epoch 11/20\n",
      "84816/84816 [==============================] - 2755s 32ms/step - loss: 0.0351\n",
      "Epoch 12/20\n",
      "84816/84816 [==============================] - 2754s 32ms/step - loss: 0.0334\n",
      "Epoch 13/20\n",
      "84816/84816 [==============================] - 2755s 32ms/step - loss: 0.0318\n",
      "Epoch 14/20\n",
      "84816/84816 [==============================] - 2755s 32ms/step - loss: 0.0305\n",
      "Epoch 15/20\n",
      "84816/84816 [==============================] - 2754s 32ms/step - loss: 0.0293\n",
      "Epoch 16/20\n",
      "84816/84816 [==============================] - 2755s 32ms/step - loss: 0.0282\n",
      "Epoch 17/20\n",
      "84816/84816 [==============================] - 2756s 32ms/step - loss: 0.0273\n",
      "Epoch 18/20\n",
      "84816/84816 [==============================] - 2756s 32ms/step - loss: 0.0264\n",
      "Epoch 19/20\n",
      "84816/84816 [==============================] - 2755s 32ms/step - loss: 0.0256\n",
      "Epoch 20/20\n",
      "84816/84816 [==============================] - 2755s 32ms/step - loss: 0.0248\n",
      "Score for fold 4: ['loss'] of 0.12409818187526676%\n",
      "Score for fold 4: ['dice_coef'] of 0.9447933890273428%\n"
     ]
    },
    {
     "data": {
      "image/png": "[encoded data removed]",
      "text/plain": [
       "<Figure size 432x288 with 1 Axes>"
      ]
     },
     "metadata": {
      "needs_background": "light"
     },
     "output_type": "display_data"
    },
    {
     "name": "stdout",
     "output_type": "stream",
     "text": [
      "------------------------------------------------------------------------\n",
      "Training for fold 5 ...\n",
      "Epoch 1/20\n",
      "84816/84816 [==============================] - 2773s 33ms/step - loss: 0.5047\n",
      "Epoch 2/20\n",
      "84816/84816 [==============================] - 2763s 33ms/step - loss: 0.0954\n",
      "Epoch 3/20\n",
      "84816/84816 [==============================] - 2761s 33ms/step - loss: 0.0764\n",
      "Epoch 4/20\n",
      "84816/84816 [==============================] - 2762s 33ms/step - loss: 0.0649\n",
      "Epoch 5/20\n",
      "84816/84816 [==============================] - 2764s 33ms/step - loss: 0.0566\n",
      "Epoch 6/20\n",
      "84816/84816 [==============================] - 2764s 33ms/step - loss: 0.0502\n",
      "Epoch 7/20\n",
      "84816/84816 [==============================] - 2764s 33ms/step - loss: 0.0454\n",
      "Epoch 8/20\n",
      "84816/84816 [==============================] - 2764s 33ms/step - loss: 0.0418\n",
      "Epoch 9/20\n",
      "84816/84816 [==============================] - 2764s 33ms/step - loss: 0.0386\n",
      "Epoch 10/20\n",
      "84816/84816 [==============================] - 2764s 33ms/step - loss: 0.0362\n",
      "Epoch 11/20\n",
      "84816/84816 [==============================] - 2763s 33ms/step - loss: 0.0341\n",
      "Epoch 12/20\n",
      "84816/84816 [==============================] - 2763s 33ms/step - loss: 0.0324\n",
      "Epoch 13/20\n",
      "84816/84816 [==============================] - 2763s 33ms/step - loss: 0.0308\n",
      "Epoch 14/20\n",
      "84816/84816 [==============================] - 2764s 33ms/step - loss: 0.0295\n",
      "Epoch 15/20\n",
      "84816/84816 [==============================] - 2763s 33ms/step - loss: 0.0284\n",
      "Epoch 16/20\n",
      "84816/84816 [==============================] - 2764s 33ms/step - loss: 0.0274\n",
      "Epoch 17/20\n",
      "84816/84816 [==============================] - 2764s 33ms/step - loss: 0.0264\n",
      "Epoch 18/20\n",
      "84816/84816 [==============================] - 2764s 33ms/step - loss: 0.0255\n",
      "Epoch 19/20\n",
      "84816/84816 [==============================] - 2764s 33ms/step - loss: 0.0247\n",
      "Epoch 20/20\n",
      "84816/84816 [==============================] - 2763s 33ms/step - loss: 0.0240\n",
      "Score for fold 5: ['loss'] of 0.1206747123024974%\n",
      "Score for fold 5: ['dice_coef'] of 0.9472547173699072%\n"
     ]
    },
    {
     "data": {
      "image/png": "[encoded data removed]",
      "text/plain": [
       "<Figure size 432x288 with 1 Axes>"
      ]
     },
     "metadata": {
      "needs_background": "light"
     },
     "output_type": "display_data"
    }
   ],
   "source": [
    "#Entrenem els models\n",
    "loss_per_fold=[]\n",
    "vec_models=[]\n",
    "scores_dice_total=[]\n",
    "for train, test in kfold.split(inputs, targets):\n",
    "    model = unet()\n",
    "\n",
    "    # Generate a print\n",
    "    print('------------------------------------------------------------------------')\n",
    "    print(f'Training for fold {fold_no} ...')\n",
    "\n",
    "    # Fit data to model\n",
    "    history = model.fit(inputs[train], targets[train],batch_size=8,epochs=20)\n",
    "    vec_models.append(model)\n",
    "    \n",
    "    #Predim el model\n",
    "    prediccio=model.predict(inputs[test])\n",
    "    dades=inputs[test]\n",
    "    dades[np.where(dades>0)]=1\n",
    "    prediccio=prediccio*dades\n",
    "    prediccio[np.where(prediccio<0.5)]=0\n",
    "    prediccio[np.where(prediccio>=0.5)]=1\n",
    "    \n",
    "    #Calculem dice del model corresponent\n",
    "    score=mean_dice_coef(prediccio,targets[test])\n",
    "    \n",
    "    #Calculem loss del model corresponent\n",
    "    scores_lose = model.evaluate(inputs[test], targets[test], verbose=0)\n",
    "    \n",
    "    #Mostrem els resultats\n",
    "    scores_dice=np.mean(score)\n",
    "    dice_coeficient=\"['dice_coef']\"\n",
    "    print(f'Score for fold {fold_no}: {model.metrics_names} of {scores_lose}%')\n",
    "    print(f'Score for fold {fold_no}: {dice_coeficient} of {scores_dice}%')\n",
    "    \n",
    "    #Creem boxplot\n",
    "    plt.boxplot(score)\n",
    "    plt.show()\n",
    "    scores_dice_total.append(score)\n",
    "    score=[]\n",
    "    prediccio=[]\n",
    "    score_dice=0\n",
    "    loss_per_fold.append(scores_lose)\n",
    "    fold_no = fold_no + 1\n"
   ]
  },
  {
   "cell_type": "code",
   "execution_count": 26,
   "metadata": {},
   "outputs": [
    {
     "data": {
      "image/png": "[encoded data removed]",
      "text/plain": [
       "<Figure size 432x288 with 1 Axes>"
      ]
     },
     "metadata": {
      "needs_background": "light"
     },
     "output_type": "display_data"
    }
   ],
   "source": [
    "plt.boxplot(scores_dice_total)\n",
    "plt.show()"
   ]
  },
  {
   "cell_type": "code",
   "execution_count": 27,
   "metadata": {
    "colab": {
     "base_uri": "https://localhost:8080/"
    },
    "executionInfo": {
     "elapsed": 11890,
     "status": "ok",
     "timestamp": 1647987917824,
     "user": {
      "displayName": "Xavier Beltran Urbano",
      "photoUrl": "https://lh3.googleusercontent.com/a/default-user=s64",
      "userId": "06059148959479075327"
     },
     "user_tz": -60
    },
    "id": "c8Zxvpy3kQHr",
    "outputId": "423307e4-507b-4190-86b1-9b62c44c14be",
    "scrolled": true
   },
   "outputs": [],
   "source": [
    "vec_models[0].save('#3.1#SB_+BC_DA_5_fold_50_epochs.h5')\n",
    "vec_models[1].save('#3.2#SB_+BC_DA_5_fold_50_epochs.h5')\n",
    "vec_models[2].save('#3.3#SB_+BC_DA_5_fold_50_epochs.h5')\n",
    "vec_models[3].save('#3.4#SB_+BC_DA_5_fold_50_epochs.h5')\n",
    "vec_models[4].save('#3.5#SB_+BC_DA_5_fold_50_epochs.h5')"
   ]
  },
  {
   "cell_type": "markdown",
   "metadata": {
    "id": "2LZ0h3t27Du-"
   },
   "source": [
    "# AGAFEM EL MAXIM DELS 5 MODELS"
   ]
  },
  {
   "cell_type": "code",
   "execution_count": null,
   "metadata": {},
   "outputs": [],
   "source": [
    "Y_pre1=vec_models[0].predict(input_test)\n",
    "Y_pre2=vec_models[1].predict(input_test)\n",
    "Y_pre3=vec_models[2].predict(input_test)\n",
    "Y_pre4=vec_models[3].predict(input_test)\n",
    "Y_pre5=vec_models[4].predict(input_test)"
   ]
  },
  {
   "cell_type": "code",
   "execution_count": null,
   "metadata": {},
   "outputs": [],
   "source": [
    "#Creem un model amb el valor del píxel més gran de tots els 5 models\n",
    "Y_pre_total_maxim=np.maximum(Y_pre1,Y_pre2)\n",
    "Y_pre_total_maxim=np.maximum(Y_pre_total_maxim,Y_pre3)\n",
    "Y_pre_total_maxim=np.maximum(Y_pre_total_maxim,Y_pre4)\n",
    "Y_pre_total_maxim=np.maximum(Y_pre_total_maxim,Y_pre5)\n",
    "\n",
    "Y_pre_total_maxim[np.where(Y_pre_total_maxim<0.5)]=0\n",
    "Y_pre_total_maxim[np.where(Y_pre_total_maxim>=0.5)]=1\n",
    "\n",
    "input_test=np.array(input_test,copy=True)\n",
    "input_test2=input_test.copy()\n",
    "input_test2[np.where(input_test2>0)]=1\n",
    "Y_pre_total_maxim=Y_pre_total_maxim*input_test2\n",
    "\n",
    "#Calculem accuracy\n",
    "dades=mean_dice_coef(target_test, Y_pre_total_maxim)\n",
    "print(f'Dice maxim dels 5 models: {np.mean(dades)}%')\n",
    "plt.boxplot(dades)"
   ]
  },
  {
   "cell_type": "code",
   "execution_count": null,
   "metadata": {},
   "outputs": [],
   "source": [
    "for i in range(80,90):\n",
    "  print('input_test '+ str(i))\n",
    "  plt.imshow(input_test[i,:,:,0])\n",
    "  plt.show()\n",
    "  plt.imshow(Y_pre_total_maxim[i,:,:,0])\n",
    "  plt.show()\n",
    "  plt.imshow(target_test[i,:,:,0])\n",
    "  plt.show()"
   ]
  },
  {
   "cell_type": "markdown",
   "metadata": {
    "id": "2LZ0h3t27Du-"
   },
   "source": [
    "# AGAFEM LA MITJANA DELS 5 MODELS"
   ]
  },
  {
   "cell_type": "code",
   "execution_count": null,
   "metadata": {},
   "outputs": [],
   "source": [
    "#Creem un model amb la mitjana dels valors dels píxels dels 5 models\n",
    "Y_pre_total_mitjana=Y_pre1+Y_pre2+Y_pre3+Y_pre4+Y_pre5\n",
    "Y_pre_total_mitjana=Y_pre_total_mitjana/5\n",
    "\n",
    "Y_pre_total_mitjana[np.where(Y_pre_total_mitjana<0.5)]=0\n",
    "Y_pre_total_mitjana[np.where(Y_pre_total_mitjana>=0.5)]=1\n",
    "Y_pre_total_mitjana=Y_pre_total_mitjana*input_test2\n",
    "\n",
    "#Calculem accuracy\n",
    "dades=mean_dice_coef(target_test, Y_pre_total_mitjana)\n",
    "print(f'Mitjana dels 5 models: {np.mean(dades)}%')\n",
    "plt.boxplot(dades)"
   ]
  },
  {
   "cell_type": "code",
   "execution_count": null,
   "metadata": {},
   "outputs": [],
   "source": [
    "for i in range(80,90):\n",
    "  print('input_test '+ str(i))\n",
    "  plt.imshow(input_test[i,:,:,0])\n",
    "  plt.show()\n",
    "  plt.imshow(Y_pre_total_mitjana[i,:,:,0])\n",
    "  plt.show()\n",
    "  plt.imshow(target_test[i,:,:,0])\n",
    "  plt.show()"
   ]
  },
  {
   "cell_type": "markdown",
   "metadata": {
    "id": "2LZ0h3t27Du-"
   },
   "source": [
    "# AGAFEM EL MODEL AMB LA LOSS MÉS BAIXA"
   ]
  },
  {
   "cell_type": "code",
   "execution_count": null,
   "metadata": {},
   "outputs": [],
   "source": [
    "#Ens quedem amb el model amb la loss més baixa\n",
    "index_lowest_loss=np.where(loss_per_fold==np.min(loss_per_fold))\n",
    "index_lowest_loss=np.asarray(index_lowest_loss)\n",
    "np.savetxt('#3.6# index.txt',index_lowest_loss)\n",
    "valor=int(index_lowest_loss[0])\n",
    "model_lowest_low=vec_models[valor]\n",
    "\n",
    "Y_pre_lowest_low=model_lowest_low.predict(input_test)\n",
    "Y_pre_lowest_low[np.where(Y_pre_lowest_low<0.5)]=0\n",
    "Y_pre_lowest_low[np.where(Y_pre_lowest_low>=0.5)]=1\n",
    "Y_pre_lowest_low=Y_pre_lowest_low*input_test2\n",
    "\n",
    "#Calculem dice\n",
    "dades=mean_dice_coef(target_test, Y_pre_lowest_low)\n",
    "print(f'Dice loss més petita: {np.mean(dades)}%')\n",
    "plt.boxplot(dades)"
   ]
  },
  {
   "cell_type": "code",
   "execution_count": null,
   "metadata": {},
   "outputs": [],
   "source": [
    "for i in range(80,90):\n",
    "  print('input_test '+ str(i))\n",
    "  plt.imshow(input_test[i,:,:,0])\n",
    "  plt.show()\n",
    "  plt.imshow(Y_pre_lowest_low[i,:,:,0])\n",
    "  plt.show()\n",
    "  plt.imshow(target_test[i,:,:,0])\n",
    "  plt.show()"
   ]
  },
  {
   "cell_type": "markdown",
   "metadata": {
    "id": "fMMYIhWtn27r"
   },
   "source": [
    "# Mirem el dice de tots els models amb les imatges de test"
   ]
  },
  {
   "cell_type": "code",
   "execution_count": null,
   "metadata": {},
   "outputs": [],
   "source": [
    "#Mirem dice dels 5 models per separat\n",
    "dades_totals=[]\n",
    "Y_pre1[np.where(Y_pre1<0.5)]=0\n",
    "Y_pre1[np.where(Y_pre1>=0.5)]=1\n",
    "Y_pre1=Y_pre1*input_test2\n",
    "dades1=mean_dice_coef(target_test, Y_pre1)\n",
    "print(f'Dice model 1: {np.mean(dades1)}%')\n",
    "dades_totals.append(dades1)\n",
    "\n",
    "Y_pre2[np.where(Y_pre2<0.5)]=0\n",
    "Y_pre2[np.where(Y_pre2>=0.5)]=1\n",
    "Y_pre2=Y_pre2*input_test2\n",
    "dades2=mean_dice_coef(target_test, Y_pre2)\n",
    "print(f'Dice model 2: {np.mean(dades2)}%')\n",
    "dades_totals.append(dades2)\n",
    "\n",
    "Y_pre3[np.where(Y_pre3<0.5)]=0\n",
    "Y_pre3[np.where(Y_pre3>=0.5)]=1\n",
    "Y_pre3=Y_pre3*input_test2\n",
    "dades3=mean_dice_coef(target_test, Y_pre3)\n",
    "print(f'Dice model 3: {np.mean(dades3)}%')\n",
    "dades_totals.append(dades3)\n",
    "\n",
    "Y_pre4[np.where(Y_pre4<0.5)]=0\n",
    "Y_pre4[np.where(Y_pre4>=0.5)]=1\n",
    "Y_pre4=Y_pre4*input_test2\n",
    "dades4=mean_dice_coef(target_test, Y_pre4)\n",
    "print(f'Dice model 4: {np.mean(dades4)}%')\n",
    "dades_totals.append(dades4)\n",
    "\n",
    "Y_pre5[np.where(Y_pre5<0.5)]=0\n",
    "Y_pre5[np.where(Y_pre5>=0.5)]=1\n",
    "Y_pre5=Y_pre5*input_test2\n",
    "dades5=mean_dice_coef(target_test, Y_pre5)\n",
    "print(f'Dice model 5: {np.mean(dades5)}%')\n",
    "dades_totals.append(dades5)\n",
    "\n",
    "#BOXPLOT\n",
    "plt.boxplot(dades_totals)"
   ]
  },
  {
   "cell_type": "code",
   "execution_count": null,
   "metadata": {},
   "outputs": [],
   "source": []
  },
  {
   "cell_type": "code",
   "execution_count": null,
   "metadata": {},
   "outputs": [],
   "source": []
  },
  {
   "cell_type": "code",
   "execution_count": null,
   "metadata": {},
   "outputs": [],
   "source": []
  }
 ],
 "metadata": {
  "colab": {
   "authorship_tag": "ABX9TyOFImcf5BSHrgeAcDfWQRI4",
   "collapsed_sections": [],
   "name": "Fitxer_Final_2.0.ipynb",
   "provenance": [
    {
     "file_id": "1tvaRWpvXImQ_JaCujXJGBy_r3qbg1DE_",
     "timestamp": 1647965765505
    },
    {
     "file_id": "10V24I8_wjBn0W68WJ_15W8l9sekN23K-",
     "timestamp": 1646670792814
    }
   ]
  },
  "kernelspec": {
   "display_name": "Python 3",
   "language": "python",
   "name": "python3"
  },
  "language_info": {
   "codemirror_mode": {
    "name": "ipython",
    "version": 3
   },
   "file_extension": ".py",
   "mimetype": "text/x-python",
   "name": "python",
   "nbconvert_exporter": "python",
   "pygments_lexer": "ipython3",
   "version": "3.6.9"
  }
 },
 "nbformat": 4,
 "nbformat_minor": 1
}
